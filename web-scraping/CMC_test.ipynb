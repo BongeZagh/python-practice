{
 "cells": [
  {
   "cell_type": "code",
   "execution_count": 8,
   "id": "9d6b7bc0",
   "metadata": {},
   "outputs": [
    {
     "name": "stdout",
     "output_type": "stream",
     "text": [
      "Today's Cryptocurrency Prices by Market Cap\n"
     ]
    }
   ],
   "source": [
    "import requests\n",
    "from bs4 import BeautifulSoup\n",
    "\n",
    "resp = requests.get('https://coinmarketcap.com/')\n",
    "soup = BeautifulSoup(resp.text, 'html5lib')\n",
    "print(soup.find('h1').text)\n",
    "\n"
   ]
  },
  {
   "cell_type": "code",
   "execution_count": 7,
   "id": "11b24cfa",
   "metadata": {},
   "outputs": [
    {
     "name": "stdout",
     "output_type": "stream",
     "text": [
      "BTC\n",
      "ETH\n",
      "USDT\n",
      "BNB\n",
      "USDC\n",
      "ADA\n",
      "SOL\n",
      "XRP\n",
      "LUNA\n",
      "DOGE\n"
     ]
    }
   ],
   "source": [
    "for p in soup.find_all('p',{'class':'sc-1eb5slv-0','class':'coin-item-symbol'}):\n",
    "    for ps in p.stripped_strings:\n",
    "        print(ps)"
   ]
  },
  {
   "cell_type": "code",
   "execution_count": null,
   "id": "a32f4ccc",
   "metadata": {},
   "outputs": [],
   "source": []
  },
  {
   "cell_type": "code",
   "execution_count": null,
   "id": "995c2509",
   "metadata": {},
   "outputs": [],
   "source": []
  }
 ],
 "metadata": {
  "kernelspec": {
   "display_name": "Python 3 (ipykernel)",
   "language": "python",
   "name": "python3"
  },
  "language_info": {
   "codemirror_mode": {
    "name": "ipython",
    "version": 3
   },
   "file_extension": ".py",
   "mimetype": "text/x-python",
   "name": "python",
   "nbconvert_exporter": "python",
   "pygments_lexer": "ipython3",
   "version": "3.7.11"
  }
 },
 "nbformat": 4,
 "nbformat_minor": 5
}
