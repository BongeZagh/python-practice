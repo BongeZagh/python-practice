{
 "cells": [
  {
   "cell_type": "code",
   "execution_count": 3,
   "id": "bd757cff",
   "metadata": {},
   "outputs": [
    {
     "name": "stdout",
     "output_type": "stream",
     "text": [
      "<header id=\"header\">\n",
      "   <!-- Nav -->\n",
      "   <div id=\"nav\">\n",
      "    <!-- Main Nav -->\n",
      "    <div id=\"nav-fixed\">\n",
      "     <div class=\"container\">\n",
      "      <!-- logo -->\n",
      "      <div class=\"nav-logo\">\n",
      "       <a class=\"logo\" href=\"index.html\"><img alt=\"\" src=\"./img/logo.png\"/></a>\n",
      "      </div>\n",
      "      <!-- /logo -->\n",
      "\n",
      "      <!-- nav -->\n",
      "      <ul class=\"nav-menu nav navbar-nav\"><li><a href=\"#\">News</a></li><li><a href=\"#\">Popular</a></li><li class=\"cat-1\"><a href=\"#\">Web Design</a></li><li class=\"cat-2\"><a href=\"#\">JavaScript</a></li><li class=\"cat-3\"><a href=\"#\">Css</a></li><li class=\"cat-4\"><a href=\"#\">Jquery</a></li></ul>\n",
      "      <!-- /nav -->\n",
      "     </div>\n",
      "    </div>\n",
      "    <!-- /Main Nav -->\n",
      "  </div></header>\n"
     ]
    }
   ],
   "source": [
    "import requests\n",
    "from bs4 import BeautifulSoup\n",
    "\n",
    "resp = requests.get('https://code-gym.github.io/spider_demo/')\n",
    "soup = BeautifulSoup(resp.text, 'html5lib')\n",
    "\n"
   ]
  },
  {
   "cell_type": "code",
   "execution_count": 5,
   "id": "c84055b6",
   "metadata": {},
   "outputs": [
    {
     "name": "stdout",
     "output_type": "stream",
     "text": [
      "<header id=\"header\">\n",
      "   <!-- Nav -->\n",
      "   <div id=\"nav\">\n",
      "    <!-- Main Nav -->\n",
      "    <div id=\"nav-fixed\">\n",
      "     <div class=\"container\">\n",
      "      <!-- logo -->\n",
      "      <div class=\"nav-logo\">\n",
      "       <a class=\"logo\" href=\"index.html\"><img alt=\"\" src=\"./img/logo.png\"/></a>\n",
      "      </div>\n",
      "      <!-- /logo -->\n",
      "\n",
      "      <!-- nav -->\n",
      "      <ul class=\"nav-menu nav navbar-nav\"><li><a href=\"#\">News</a></li><li><a href=\"#\">Popular</a></li><li class=\"cat-1\"><a href=\"#\">Web Design</a></li><li class=\"cat-2\"><a href=\"#\">JavaScript</a></li><li class=\"cat-3\"><a href=\"#\">Css</a></li><li class=\"cat-4\"><a href=\"#\">Jquery</a></li></ul>\n",
      "      <!-- /nav -->\n",
      "     </div>\n",
      "    </div>\n",
      "    <!-- /Main Nav -->\n",
      "  </div></header>\n"
     ]
    }
   ],
   "source": [
    "#parent\n",
    "nav = soup.find(id = 'nav')\n",
    "header = nav.parent\n",
    "print(header)"
   ]
  },
  {
   "cell_type": "code",
   "execution_count": 6,
   "id": "bc47fdd7",
   "metadata": {},
   "outputs": [
    {
     "name": "stdout",
     "output_type": "stream",
     "text": [
      "<li class=\"cat-2\"><a href=\"#\">JavaScript</a></li>\n",
      "<li class=\"cat-1\"><a href=\"#\">Web Design</a></li>\n",
      "<li class=\"cat-3\"><a href=\"#\">Css</a></li>\n"
     ]
    }
   ],
   "source": [
    "#sibling 兄弟层级，同级\n",
    "javascript = soup.find('li', 'cat-2')\n",
    "print(javascript)\n",
    "print(javascript.previous_sibling)\n",
    "print(javascript.next_sibling)"
   ]
  },
  {
   "cell_type": "code",
   "execution_count": 7,
   "id": "9192551a",
   "metadata": {},
   "outputs": [
    {
     "name": "stdout",
     "output_type": "stream",
     "text": [
      "<a href=\"#\">News</a>\n",
      "<a href=\"#\">Popular</a>\n",
      "<a href=\"#\">Web Design</a>\n",
      "<a href=\"#\">JavaScript</a>\n",
      "<a href=\"#\">Css</a>\n",
      "<a href=\"#\">Jquery</a>\n"
     ]
    }
   ],
   "source": [
    "#children 子层级\n",
    "ul = soup.find('ul')\n",
    "for li in ul.children:\n",
    "    print(li.find('a'))"
   ]
  },
  {
   "cell_type": "code",
   "execution_count": null,
   "id": "8886d280",
   "metadata": {},
   "outputs": [],
   "source": []
  }
 ],
 "metadata": {
  "kernelspec": {
   "display_name": "Python 3 (ipykernel)",
   "language": "python",
   "name": "python3"
  },
  "language_info": {
   "codemirror_mode": {
    "name": "ipython",
    "version": 3
   },
   "file_extension": ".py",
   "mimetype": "text/x-python",
   "name": "python",
   "nbconvert_exporter": "python",
   "pygments_lexer": "ipython3",
   "version": "3.7.11"
  }
 },
 "nbformat": 4,
 "nbformat_minor": 5
}
