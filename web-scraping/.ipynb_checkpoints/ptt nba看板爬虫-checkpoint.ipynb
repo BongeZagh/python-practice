{
 "cells": [
  {
   "cell_type": "code",
   "execution_count": null,
   "id": "1be1ec0a",
   "metadata": {},
   "outputs": [],
   "source": [
    "import requests\n",
    "from bs4 import BeautifulSoup\n",
    "import time\n",
    "\n",
    "today = time.strftime('%m/%d').lstrip('0') #定义时间的格式，由于ptt上时间月份不带有0，需要通过lstrip('0')去除多余的0\n",
    "\n",
    "\n",
    "#\n",
    "def pttNBA(url):\n",
    "    resp = requests.get(url)\n",
    "    if resp.status_code != 200:\n",
    "        print('URL發生錯誤：' + url)\n",
    "        return\n",
    "    \n",
    "    soup = BeautifulSoup(resp.text, 'html5lib')\n",
    "    paging = soup.find('div', 'btn-group btn-group-paging').find_all('a')[1]['href']\n",
    "    \n",
    "    articles = []\n",
    "    rents = soup.find_all('div', 'r-ent')\n",
    "    for rent in rents:\n",
    "        title = rent.find('div', 'title').text.strip()\n",
    "        count = rent.find('div', 'nrec').text.strip()\n",
    "        date = rent.find('div', 'meta').find('div', 'date').text.strip()\n",
    "        article = '%s %s:%s' % (date, count, title)\n",
    "        \n",
    "        try:\n",
    "            if today == date and int(count) > 10:\n",
    "                articles.append(article)\n",
    "        except:\n",
    "            if today == date and count == '爆':\n",
    "                articles.append(article)\n",
    "    \n",
    "    if len(articles) != 0:\n",
    "        for article in articles:\n",
    "            print(article)\n",
    "        pttNBA('https://www.ptt.cc' + paging)\n",
    "    else:\n",
    "        return\n",
    "    \n",
    "pttNBA('https://www.ptt.cc/bbs/NBA/index.html')\n"
   ]
  }
 ],
 "metadata": {
  "kernelspec": {
   "display_name": "Python 3 (ipykernel)",
   "language": "python",
   "name": "python3"
  },
  "language_info": {
   "codemirror_mode": {
    "name": "ipython",
    "version": 3
   },
   "file_extension": ".py",
   "mimetype": "text/x-python",
   "name": "python",
   "nbconvert_exporter": "python",
   "pygments_lexer": "ipython3",
   "version": "3.7.11"
  }
 },
 "nbformat": 4,
 "nbformat_minor": 5
}
