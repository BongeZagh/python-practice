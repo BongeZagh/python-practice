{
 "cells": [
  {
   "cell_type": "code",
   "execution_count": 5,
   "id": "2694d6aa",
   "metadata": {},
   "outputs": [
    {
     "name": "stdout",
     "output_type": "stream",
     "text": [
      "Code Gym 爬蟲教學\n"
     ]
    }
   ],
   "source": [
    "    \n",
    "import requests\n",
    "from bs4 import BeautifulSoup\n",
    "\n",
    "resp = requests.get('https://code-gym.github.io/spider_demo/')\n",
    "soup = BeautifulSoup(resp.text, 'html5lib')\n",
    "print(soup.find('h1').text)\n",
    "# print(soup.h1.text) 另一种表达方式"
   ]
  },
  {
   "cell_type": "code",
   "execution_count": 37,
   "id": "c366781d",
   "metadata": {},
   "outputs": [
    {
     "name": "stdout",
     "output_type": "stream",
     "text": [
      "Code Gym 網站致力於製作電腦網路教學線上課程，主要為Wordpress架設網站、程式語言和系統開發，幫助想要學習軟體開發的朋友，能透過優質的線上課程學習相關知識並創造出自己的網站或軟體系統，同時分享免費的網路資源，讓上完課程的朋友在開發網站或軟體時，能夠有事倍功半的利器。\n",
      "JavaScript (簡稱 JS) 是具有一級函數的輕量級、直譯式或即時編譯（JIT-compiled）的程式語言。\n",
      "jQuery是一套跨瀏覽器的JavaScript函式庫，簡化HTML與JavaScript之間的操作。\n",
      "web design 涵蓋了製作和維護網站的許多不同的技能和學科。它包含了網頁圖形設計、介面設計等技術。\n",
      "JavaScript (簡稱 JS) 是具有一級函數的輕量級、直譯式或即時編譯（JIT-compiled）的程式語言。\n",
      "jQuery是一套跨瀏覽器的JavaScript函式庫，簡化HTML與JavaScript之間的操作。\n",
      "淺談 JavaScript 頭號難題 this\n",
      "層疊樣式表（英語：Cascading Style Sheets，簡寫CSS），又稱串樣式列表\n",
      "RWD網頁設計趨勢\n",
      "About Us\n",
      "Catagories\n",
      "Join our Newsletter\n"
     ]
    }
   ],
   "source": [
    "for h3s in soup.find_all('h3'):\n",
    "    for h3 in h3s.stripped_strings:\n",
    "        print(h3)"
   ]
  },
  {
   "cell_type": "code",
   "execution_count": 28,
   "id": "ee327dc3",
   "metadata": {
    "scrolled": true
   },
   "outputs": [
    {
     "name": "stdout",
     "output_type": "stream",
     "text": [
      "<h3 class=\"post-title\">\n",
      "         <a href=\"blog-post.html\">JavaScript (簡稱 JS) 是具有一級函數的輕量級、直譯式或即時編譯（JIT-compiled）的程式語言。\n",
      "         </a>\n",
      "        </h3>\n",
      "<h3 class=\"post-title\">\n",
      "         <a href=\"blog-post.html\">jQuery是一套跨瀏覽器的JavaScript函式庫，簡化HTML與JavaScript之間的操作。\n",
      "         </a>\n",
      "        </h3>\n",
      "<h3 class=\"post-title\">\n",
      "         <a href=\"blog-post.html\">web design 涵蓋了製作和維護網站的許多不同的技能和學科。它包含了網頁圖形設計、介面設計等技術。</a></h3>\n",
      "<h3 class=\"post-title\">\n",
      "         <a href=\"blog-post.html\">JavaScript (簡稱 JS) 是具有一級函數的輕量級、直譯式或即時編譯（JIT-compiled）的程式語言。\n",
      "         </a>\n",
      "        </h3>\n",
      "<h3 class=\"post-title\">\n",
      "         <a href=\"blog-post.html\">jQuery是一套跨瀏覽器的JavaScript函式庫，簡化HTML與JavaScript之間的操作。\n",
      "         </a>\n",
      "        </h3>\n",
      "<h3 class=\"post-title\">\n",
      "         <a href=\"blog-post.html\">淺談 JavaScript 頭號難題 this\n",
      "         </a>\n",
      "        </h3>\n",
      "<h3 class=\"post-title\">\n",
      "         <a href=\"blog-post.html\">層疊樣式表（英語：Cascading Style Sheets，簡寫CSS），又稱串樣式列表\n",
      "         </a>\n",
      "        </h3>\n",
      "<h3 class=\"post-title\">\n",
      "         <a href=\"blog-post.html\">RWD網頁設計趨勢\n",
      "         </a>\n",
      "        </h3>\n"
     ]
    }
   ],
   "source": [
    "for title in soup.find_all('h3','post-title'):\n",
    "    print(title)"
   ]
  },
  {
   "cell_type": "code",
   "execution_count": 30,
   "id": "8fed62b5",
   "metadata": {},
   "outputs": [
    {
     "name": "stdout",
     "output_type": "stream",
     "text": [
      "<a class=\"post-category cat-1\" href=\"category.html\">Web Design</a>\n",
      "<a class=\"post-category cat-1\" href=\"category.html\">Web Design</a>\n"
     ]
    }
   ],
   "source": [
    "for cat in soup.find_all('a',{'class':'post-category', 'class':'cat-1'}):\n",
    "    print(cat)"
   ]
  },
  {
   "cell_type": "code",
   "execution_count": 35,
   "id": "253cdcc3",
   "metadata": {},
   "outputs": [
    {
     "name": "stdout",
     "output_type": "stream",
     "text": [
      "JavaScript\n",
      "March 1, 2019\n",
      "JavaScript (簡稱 JS) 是具有一級函數的輕量級、直譯式或即時編譯（JIT-compiled）的程式語言。\n",
      "Jquery\n",
      "March 2, 2019\n",
      "jQuery是一套跨瀏覽器的JavaScript函式庫，簡化HTML與JavaScript之間的操作。\n",
      "Web Design\n",
      "March 5, 2019\n",
      "web design 涵蓋了製作和維護網站的許多不同的技能和學科。它包含了網頁圖形設計、介面設計等技術。\n",
      "JavaScript\n",
      "March 8, 2019\n",
      "JavaScript (簡稱 JS) 是具有一級函數的輕量級、直譯式或即時編譯（JIT-compiled）的程式語言。\n",
      "Jquery\n",
      "March 13, 2019\n",
      "jQuery是一套跨瀏覽器的JavaScript函式庫，簡化HTML與JavaScript之間的操作。\n",
      "JavaScript\n",
      "March 18, 2019\n",
      "淺談 JavaScript 頭號難題 this\n",
      "Css\n",
      "March 22, 2019\n",
      "層疊樣式表（英語：Cascading Style Sheets，簡寫CSS），又稱串樣式列表\n",
      "Web Design\n",
      "March 26, 2019\n",
      "RWD網頁設計趨勢\n"
     ]
    }
   ],
   "source": [
    "for posts in soup.find_all('div','post-body'):\n",
    "    for post in posts.stripped_strings:\n",
    "        print(post)"
   ]
  },
  {
   "cell_type": "code",
   "execution_count": null,
   "id": "c777b98c",
   "metadata": {},
   "outputs": [],
   "source": []
  }
 ],
 "metadata": {
  "kernelspec": {
   "display_name": "Python 3 (ipykernel)",
   "language": "python",
   "name": "python3"
  },
  "language_info": {
   "codemirror_mode": {
    "name": "ipython",
    "version": 3
   },
   "file_extension": ".py",
   "mimetype": "text/x-python",
   "name": "python",
   "nbconvert_exporter": "python",
   "pygments_lexer": "ipython3",
   "version": "3.7.11"
  }
 },
 "nbformat": 4,
 "nbformat_minor": 5
}
